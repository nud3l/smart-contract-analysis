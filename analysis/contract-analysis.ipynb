{
 "cells": [
  {
   "cell_type": "markdown",
   "metadata": {
    "deletable": true,
    "editable": true
   },
   "source": [
    "# Smart contract analysis\n",
    "Analyse smart contracts from a MongoDB. To load data into MongoDB use the data-loader package."
   ]
  },
  {
   "cell_type": "code",
   "execution_count": 1,
   "metadata": {
    "collapsed": true,
    "deletable": true,
    "editable": true
   },
   "outputs": [],
   "source": [
    "import pymongo\n",
    "from pprint import pprint"
   ]
  },
  {
   "cell_type": "code",
   "execution_count": 2,
   "metadata": {
    "collapsed": true,
    "deletable": true,
    "editable": true
   },
   "outputs": [],
   "source": [
    "db = pymongo.MongoClient()"
   ]
  },
  {
   "cell_type": "markdown",
   "metadata": {
    "deletable": true,
    "editable": true
   },
   "source": [
    "## Exploration"
   ]
  },
  {
   "cell_type": "code",
   "execution_count": 3,
   "metadata": {
    "collapsed": false,
    "deletable": true,
    "editable": true
   },
   "outputs": [
    {
     "data": {
      "text/plain": [
       "[u'code_base']"
      ]
     },
     "execution_count": 3,
     "metadata": {},
     "output_type": "execute_result"
    }
   ],
   "source": [
    "db.code.collection_names()"
   ]
  },
  {
   "cell_type": "code",
   "execution_count": 4,
   "metadata": {
    "collapsed": false,
    "deletable": true,
    "editable": true
   },
   "outputs": [],
   "source": [
    "# Rather large and thus commented. \n",
    "# Uncomment to see an example of the document structure.\n",
    "\n",
    "# pprint(db.code.code_base.find_one())"
   ]
  },
  {
   "cell_type": "markdown",
   "metadata": {
    "deletable": true,
    "editable": true
   },
   "source": [
    "Display number of contracts in our collection"
   ]
  },
  {
   "cell_type": "code",
   "execution_count": 5,
   "metadata": {
    "collapsed": false,
    "deletable": true,
    "editable": true
   },
   "outputs": [
    {
     "data": {
      "text/plain": [
       "2561"
      ]
     },
     "execution_count": 5,
     "metadata": {},
     "output_type": "execute_result"
    }
   ],
   "source": [
    "code_base = db.code.code_base\n",
    "code_base.count()"
   ]
  },
  {
   "cell_type": "markdown",
   "metadata": {
    "collapsed": true,
    "deletable": true,
    "editable": true
   },
   "source": [
    "Display graph of code modification date."
   ]
  },
  {
   "cell_type": "code",
   "execution_count": 6,
   "metadata": {
    "collapsed": false,
    "deletable": true,
    "editable": true
   },
   "outputs": [],
   "source": [
    "from datetime import datetime\n",
    "def convert_unixtime(timestamp):\n",
    "    return datetime.utcfromtimestamp(timestamp)"
   ]
  },
  {
   "cell_type": "code",
   "execution_count": 7,
   "metadata": {
    "collapsed": false,
    "deletable": true,
    "editable": true
   },
   "outputs": [],
   "source": [
    "timestamps = code_base.find({},{\"date_added\":1, \"_id\":0})\n",
    "time_list = []\n",
    "for item in timestamps:\n",
    "    time = convert_unixtime(item['date_added'])\n",
    "    time_list.append(time)\n",
    "oldest = min(time_list)\n",
    "youngest = max(time_list)\n",
    "difference = youngest - oldest"
   ]
  },
  {
   "cell_type": "code",
   "execution_count": 8,
   "metadata": {
    "collapsed": false,
    "deletable": true,
    "editable": true
   },
   "outputs": [
    {
     "data": {
      "image/png": "[encoded data removed]",
      "text/plain": [
       "<matplotlib.figure.Figure at 0x7f3f1570c110>"
      ]
     },
     "metadata": {},
     "output_type": "display_data"
    }
   ],
   "source": [
    "import matplotlib.mlab as mlab\n",
    "import matplotlib.pyplot as plt\n",
    "x = time_list\n",
    "num_bins = difference.days\n",
    "fig, ax = plt.subplots()\n",
    "\n",
    "# the histogram of the data\n",
    "n, bins, patches = ax.hist(x, num_bins)\n",
    "ax.set_xlabel('Date of Solidity code added')\n",
    "ax.set_ylabel('Total number of contracts per day')\n",
    "\n",
    "# Tweak spacing to prevent clipping of ylabel\n",
    "fig.tight_layout()\n",
    "fig.autofmt_xdate()\n",
    "plt.show()"
   ]
  },
  {
   "cell_type": "code",
   "execution_count": 9,
   "metadata": {
    "collapsed": false,
    "deletable": true,
    "editable": true
   },
   "outputs": [
    {
     "data": {
      "image/png": "[encoded data removed]",
      "text/plain": [
       "<matplotlib.figure.Figure at 0x7f3f13543dd0>"
      ]
     },
     "metadata": {},
     "output_type": "display_data"
    }
   ],
   "source": [
    "from collections import Counter\n",
    "import numpy as np\n",
    "from operator import itemgetter\n",
    "\n",
    "repositories = code_base.find({},{\"repository_id\":1, \"_id\":0})\n",
    "repo_list = []\n",
    "\n",
    "\n",
    "for item in repositories:\n",
    "    repo_list.append(item[\"repository_id\"])\n",
    "    \n",
    "repos = Counter(repo_list).items()\n",
    "repos.sort(key=itemgetter(1), reverse=True)\n",
    "labels, values = zip(*repos)\n",
    "\n",
    "indexes = np.arange(len(labels))\n",
    "width = 1\n",
    "\n",
    "# the barchart of the data\n",
    "plt.bar(indexes, values, width)\n",
    "plt.xlabel('Repositories')\n",
    "plt.ylabel('Number of files in repository')\n",
    "plt.show()"
   ]
  },
  {
   "cell_type": "markdown",
   "metadata": {
    "deletable": true,
    "editable": true
   },
   "source": [
    "### Solidity versions"
   ]
  },
  {
   "cell_type": "code",
   "execution_count": 10,
   "metadata": {
    "collapsed": true,
    "deletable": true,
    "editable": true
   },
   "outputs": [],
   "source": [
    "# Find akeys in nested dictinaries\n",
    "# Interesting thread on this: http://stackoverflow.com/questions/9807634/find-all-occurences-of-a-key-in-nested-python-dictionaries-and-lists\n",
    "def gen_dict_extract(key, var):\n",
    "    if hasattr(var,'iteritems'):\n",
    "        for k, v in var.iteritems():\n",
    "            if k == key:\n",
    "                yield v\n",
    "            if isinstance(v, dict):\n",
    "                for result in gen_dict_extract(key, v):\n",
    "                    yield result\n",
    "            elif isinstance(v, list):\n",
    "                for d in v:\n",
    "                    for result in gen_dict_extract(key, d):\n",
    "                        yield result"
   ]
  },
  {
   "cell_type": "code",
   "execution_count": 11,
   "metadata": {
    "collapsed": false,
    "deletable": true,
    "editable": true
   },
   "outputs": [
    {
     "name": "stdout",
     "output_type": "stream",
     "text": [
      "2074\n"
     ]
    }
   ],
   "source": [
    "sol_code = code_base.find({},{\"code\":1, \"_id\":0})\n",
    "sol_list = []\n",
    "\n",
    "for item in sol_code:\n",
    "    try:\n",
    "        version = gen_dict_extract(\"version\", item)\n",
    "        sol_list.append(list(version)[0])\n",
    "        # sol_list.append(item[\"code\"][\"body\"][0][\"start_version\"][\"version\"])\n",
    "    except KeyError:\n",
    "        pass\n",
    "    except IndexError:\n",
    "        pass\n",
    "# Print number of contracts that include a Solidity version\n",
    "print len(sol_list)"
   ]
  },
  {
   "cell_type": "code",
   "execution_count": 12,
   "metadata": {
    "collapsed": false,
    "deletable": true,
    "editable": true
   },
   "outputs": [
    {
     "data": {
      "image/png": "[encoded data removed]",
      "text/plain": [
       "<matplotlib.figure.Figure at 0x7f3f125129d0>"
      ]
     },
     "metadata": {},
     "output_type": "display_data"
    }
   ],
   "source": [
    "versions = Counter(sol_list).items()\n",
    "versions.sort(key=itemgetter(0))\n",
    "labels, values = zip(*versions)\n",
    "\n",
    "indexes = np.arange(len(labels))\n",
    "width = 0.8\n",
    "\n",
    "# the barchart of the data\n",
    "plt.bar(indexes, values, width)\n",
    "plt.xlabel('Solidity versions')\n",
    "plt.ylabel('Number of files with specific Solidity version')\n",
    "plt.xticks(indexes, labels)\n",
    "plt.show()"
   ]
  },
  {
   "cell_type": "markdown",
   "metadata": {
    "deletable": true,
    "editable": true
   },
   "source": [
    "# Analysis of security recommendations\n",
    "Based on [best pratices by ConsenSys](https://github.com/ConsenSys/smart-contract-best-practices#solidity-tips)\n",
    "\n",
    "# Analysis of code complexity\n",
    "Number of variables, mappings, structs, and events per contract"
   ]
  },
  {
   "cell_type": "code",
   "execution_count": 13,
   "metadata": {
    "collapsed": false,
    "deletable": true,
    "editable": true
   },
   "outputs": [],
   "source": [
    "sol_code = code_base.find({},{\"code\":1, \"_id\":0})\n",
    "\n",
    "variables = []\n",
    "structs = []\n",
    "events = []\n",
    "mappings = []\n",
    "functions = []\n",
    "libraries = []\n",
    "enums = []\n",
    "imports = []\n",
    "\n",
    "for item in sol_code:\n",
    "    current_variables = 0\n",
    "    current_structs = 0\n",
    "    current_events = 0\n",
    "    current_mappings = 0\n",
    "    current_functions = 0\n",
    "    current_libraries = 0\n",
    "    current_enums = 0\n",
    "    current_imports = 0\n",
    "    for key in gen_dict_extract('type', item):\n",
    "        if key in 'StateVariableDeclaration':\n",
    "            current_variables += 1\n",
    "        elif key in 'StructDeclaration':\n",
    "            current_structs += 1\n",
    "        elif key in 'EventDeclaration':\n",
    "            current_events += 1\n",
    "        elif key in 'MappingExpression':\n",
    "            current_mappings += 1\n",
    "        elif key in 'FunctionDeclaration':\n",
    "            current_functions += 1\n",
    "        elif key in 'UsingStatement':\n",
    "            current_libraries += 1\n",
    "        elif key in 'EnumDeclaration':\n",
    "            current_enums += 1\n",
    "        elif key in 'ImportStatement':\n",
    "            current_imports += 1     \n",
    "    variables.append(current_variables)\n",
    "    structs.append(current_structs)\n",
    "    events.append(current_events)\n",
    "    mappings.append(current_mappings)\n",
    "    functions.append(current_functions)\n",
    "    libraries.append(current_libraries)\n",
    "    enums.append(current_enums)\n",
    "    imports.append(current_imports)\n",
    "    \n",
    "all_data = [imports, libraries, variables, events, structs, mappings, enums, functions]"
   ]
  },
  {
   "cell_type": "code",
   "execution_count": 14,
   "metadata": {
    "collapsed": false,
    "deletable": true,
    "editable": true
   },
   "outputs": [
    {
     "data": {
      "image/png": "[encoded data removed]",
      "text/plain": [
       "<matplotlib.figure.Figure at 0x7f3f123d0110>"
      ]
     },
     "metadata": {},
     "output_type": "display_data"
    }
   ],
   "source": [
    "fig, axes = plt.subplots()\n",
    "\n",
    "axes.boxplot(all_data)\n",
    "\n",
    "xlabels = ['imports', 'libraries', 'variables', 'events', 'structs', 'mappings', 'enums', 'functions']\n",
    "\n",
    "axes.yaxis.grid(True)\n",
    "axes.set_xticks([y for y in range(len(all_data))])\n",
    "axes.set_xlabel('Type of declaration')\n",
    "axes.set_ylabel('Total number of declarations')\n",
    "plt.setp(axes, xticks=[y+1 for y in range(len(all_data))],\n",
    "         xticklabels=xlabels)\n",
    "plt.xticks(rotation=30)\n",
    "plt.show()"
   ]
  },
  {
   "cell_type": "code",
   "execution_count": 15,
   "metadata": {
    "collapsed": false,
    "deletable": true,
    "editable": true
   },
   "outputs": [
    {
     "data": {
      "image/png": "[encoded data removed]",
      "text/plain": [
       "<matplotlib.figure.Figure at 0x7f3f10ca1b50>"
      ]
     },
     "metadata": {},
     "output_type": "display_data"
    }
   ],
   "source": [
    "fig, axes = plt.subplots()\n",
    "\n",
    "axes.boxplot(all_data, showfliers=False)\n",
    "\n",
    "xlabels = ['imports', 'libraries', 'variables', 'events', 'structs', 'mappings', 'enums', 'functions']\n",
    "\n",
    "axes.yaxis.grid(True)\n",
    "axes.set_xticks([y for y in range(len(all_data))])\n",
    "axes.set_xlabel('Type of declaration')\n",
    "axes.set_ylabel('Total number of declarations')\n",
    "plt.setp(axes, xticks=[y+1 for y in range(len(all_data))],\n",
    "         xticklabels=xlabels)\n",
    "plt.xticks(rotation=30)\n",
    "plt.show()"
   ]
  },
  {
   "cell_type": "code",
   "execution_count": 16,
   "metadata": {
    "collapsed": false,
    "deletable": true,
    "editable": true,
    "scrolled": true
   },
   "outputs": [
    {
     "name": "stdout",
     "output_type": "stream",
     "text": [
      "imports\n",
      "Mean: 0.646231940648\n",
      "Standard deviation: 1.08027161989\n",
      "Variance: 1.16698677275\n",
      "Outer 90 percentile: 2.0\n",
      "Outer 95 percentile: 3.0\n",
      "Outer 99 percentile: 5.0\n",
      "-------------\n",
      "libraries\n",
      "Mean: 0.0171807887544\n",
      "Standard deviation: 0.17144155037\n",
      "Variance: 0.0293922051933\n",
      "Outer 90 percentile: 0.0\n",
      "Outer 95 percentile: 0.0\n",
      "Outer 99 percentile: 1.0\n",
      "-------------\n",
      "variables\n",
      "Mean: 3.33346349082\n",
      "Standard deviation: 6.3921100713\n",
      "Variance: 40.8590711636\n",
      "Outer 90 percentile: 8.0\n",
      "Outer 95 percentile: 14.0\n",
      "Outer 99 percentile: 26.4\n",
      "-------------\n",
      "events\n",
      "Mean: 0.633346349082\n",
      "Standard deviation: 1.49592052317\n",
      "Variance: 2.23777821164\n",
      "Outer 90 percentile: 2.0\n",
      "Outer 95 percentile: 3.0\n",
      "Outer 99 percentile: 8.0\n",
      "-------------\n",
      "structs\n",
      "Mean: 0.240531042561\n",
      "Standard deviation: 0.679450857593\n",
      "Variance: 0.461653467884\n",
      "Outer 90 percentile: 1.0\n",
      "Outer 95 percentile: 2.0\n",
      "Outer 99 percentile: 3.0\n",
      "-------------\n",
      "mappings\n",
      "Mean: 0.689183912534\n",
      "Standard deviation: 1.50059758856\n",
      "Variance: 2.2517931228\n",
      "Outer 90 percentile: 2.0\n",
      "Outer 95 percentile: 3.0\n",
      "Outer 99 percentile: 7.0\n",
      "-------------\n",
      "enums\n",
      "Mean: 0.0456852791878\n",
      "Standard deviation: 0.264910673576\n",
      "Variance: 0.0701776649746\n",
      "Outer 90 percentile: 0.0\n",
      "Outer 95 percentile: 0.0\n",
      "Outer 99 percentile: 1.0\n",
      "-------------\n",
      "functions\n",
      "Mean: 5.67746973838\n",
      "Standard deviation: 8.50265560547\n",
      "Variance: 72.2951523453\n",
      "Outer 90 percentile: 13.0\n",
      "Outer 95 percentile: 21.0\n",
      "Outer 99 percentile: 39.0\n",
      "-------------\n"
     ]
    }
   ],
   "source": [
    "from statistics import mean, stdev, variance\n",
    "i = 0\n",
    "for item in all_data:\n",
    "    print xlabels[i]\n",
    "    print \"Mean: {}\".format(mean(item))\n",
    "    print \"Standard deviation: {}\".format(stdev(item))\n",
    "    print \"Variance: {}\".format(variance(item))\n",
    "    print \"Outer 90 percentile: {}\".format(np.percentile(item,90))\n",
    "    print \"Outer 95 percentile: {}\".format(np.percentile(item,95))\n",
    "    print \"Outer 99 percentile: {}\".format(np.percentile(item,99))\n",
    "    print \"-------------\"\n",
    "    i += 1"
   ]
  },
  {
   "cell_type": "markdown",
   "metadata": {
    "deletable": true,
    "editable": true
   },
   "source": [
    "# Security analysis"
   ]
  },
  {
   "cell_type": "code",
   "execution_count": 17,
   "metadata": {
    "collapsed": false,
    "deletable": true,
    "editable": true
   },
   "outputs": [],
   "source": [
    "security_status = code_base.find({\"security\": {\"$exists\": True}},{\"security\":1, \"_id\":0})\n",
    "security_stats = [0,0,0,0]\n",
    "security_issues = [0,0,0,0]\n",
    "\n",
    "for status in security_status:\n",
    "    this_status = status[\"security\"]\n",
    "    if \"callstack\" in this_status:\n",
    "        security_stats[0] += 1\n",
    "        if this_status[\"callstack\"]:\n",
    "            security_issues[0] += 1\n",
    "    if \"time_dependency\" in this_status:\n",
    "        security_stats[1] += 1\n",
    "        if this_status[\"time_dependency\"]:\n",
    "            security_issues[1] += 1\n",
    "    if \"reentrancy\" in this_status:\n",
    "        security_stats[2] += 1\n",
    "        if this_status[\"reentrancy\"]:\n",
    "            security_issues[2] += 1\n",
    "    if \"concurrency\" in this_status:\n",
    "        security_stats[3] += 1\n",
    "        if this_status[\"concurrency\"]:\n",
    "            security_issues[3] += 1"
   ]
  },
  {
   "cell_type": "code",
   "execution_count": 18,
   "metadata": {
    "collapsed": false,
    "deletable": true,
    "editable": true
   },
   "outputs": [
    {
     "data": {
      "image/png": "[encoded data removed]",
      "text/plain": [
       "<matplotlib.figure.Figure at 0x7f3f0a035cd0>"
      ]
     },
     "metadata": {},
     "output_type": "display_data"
    }
   ],
   "source": [
    "labels = [\"callstack\", \"time dependency\", \"reentrancy\", \"concurrency\"]\n",
    "\n",
    "indexes = np.arange(len(labels))\n",
    "width = 0.8\n",
    "\n",
    "# the barchart of the data\n",
    "plt.bar(indexes, security_stats, width, color='b', label='Contracts analysed')\n",
    "plt.bar(indexes, security_issues, width, color='r', label='Contracts with security issues')\n",
    "plt.xlabel('Security issues')\n",
    "plt.ylabel('Number of Solidity contracts')\n",
    "plt.xticks(indexes, labels)\n",
    "plt.legend()\n",
    "plt.show()"
   ]
  },
  {
   "cell_type": "code",
   "execution_count": 19,
   "metadata": {
    "collapsed": false,
    "deletable": true,
    "editable": true
   },
   "outputs": [
    {
     "name": "stdout",
     "output_type": "stream",
     "text": [
      "[250, 38, 246, 64]\n"
     ]
    }
   ],
   "source": [
    "print security_issues"
   ]
  },
  {
   "cell_type": "code",
   "execution_count": null,
   "metadata": {
    "collapsed": true
   },
   "outputs": [],
   "source": []
  }
 ],
 "metadata": {
  "kernelspec": {
   "display_name": "Python 2",
   "language": "python",
   "name": "python2"
  },
  "language_info": {
   "codemirror_mode": {
    "name": "ipython",
    "version": 2
   },
   "file_extension": ".py",
   "mimetype": "text/x-python",
   "name": "python",
   "nbconvert_exporter": "python",
   "pygments_lexer": "ipython2",
   "version": "2.7.6"
  }
 },
 "nbformat": 4,
 "nbformat_minor": 2
}
